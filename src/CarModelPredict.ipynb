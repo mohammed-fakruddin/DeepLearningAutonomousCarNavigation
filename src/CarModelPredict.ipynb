{
 "cells": [
  {
   "cell_type": "code",
   "execution_count": 1,
   "metadata": {},
   "outputs": [],
   "source": [
    "import numpy as np\n",
    "import matplotlib.pyplot as plt\n",
    "from PIL import Image\n",
    "import numpy as np\n",
    "import os\n",
    "from random import shuffle\n",
    "import imageio"
   ]
  },
  {
   "cell_type": "code",
   "execution_count": 2,
   "metadata": {},
   "outputs": [],
   "source": [
    "import tensorflow as tf"
   ]
  },
  {
   "cell_type": "code",
   "execution_count": 3,
   "metadata": {},
   "outputs": [],
   "source": [
    "%matplotlib inline"
   ]
  },
  {
   "cell_type": "code",
   "execution_count": 4,
   "metadata": {},
   "outputs": [
    {
     "name": "stderr",
     "output_type": "stream",
     "text": [
      "Using TensorFlow backend.\n"
     ]
    }
   ],
   "source": [
    "import keras\n",
    "from keras.models import Sequential\n",
    "from keras.layers import Dense, Dropout, Flatten\n",
    "from keras.layers import Conv2D, MaxPooling2D\n",
    "from keras.layers. normalization import BatchNormalization\n",
    "import numpy as np"
   ]
  },
  {
   "cell_type": "code",
   "execution_count": 5,
   "metadata": {},
   "outputs": [],
   "source": [
    "from keras.models import model_from_json"
   ]
  },
  {
   "cell_type": "code",
   "execution_count": 6,
   "metadata": {},
   "outputs": [],
   "source": [
    "counting_dict = {'forward': 0, 'reverse': 0, 'left': 0, 'right': 0, 'idle':0}\n",
    "naming_dict = {'forward': 0, 'reverse': 0, 'left': 0, 'right': 0, 'idle':0}\n",
    "IMG_SIZE = 75"
   ]
  },
  {
   "cell_type": "code",
   "execution_count": 7,
   "metadata": {},
   "outputs": [],
   "source": [
    "def label_img(name):\n",
    "    word_label = name.split('-')[0]\n",
    "    if word_label == 'forward': return np.array([1,0,0,0, 0])\n",
    "    elif word_label == 'reverse' : return np.array([0,1,0,0, 0])\n",
    "    elif word_label == 'left' : return np.array([0,0,1,0, 0])\n",
    "    elif word_label == 'right' : return np.array([0,0,0,1, 0])\n",
    "    elif word_label == 'idle' : return np.array([0,0,0,0, 1])"
   ]
  },
  {
   "cell_type": "code",
   "execution_count": 8,
   "metadata": {},
   "outputs": [
    {
     "data": {
      "text/plain": [
       "<matplotlib.image.AxesImage at 0x11fe97550>"
      ]
     },
     "execution_count": 8,
     "metadata": {},
     "output_type": "execute_result"
    },
    {
     "data": {
      "image/png": "[encoded data removed]",
      "text/plain": [
       "<Figure size 432x288 with 1 Axes>"
      ]
     },
     "metadata": {},
     "output_type": "display_data"
    }
   ],
   "source": [
    "# Test on Test Set\n",
    "TEST_DIR = './test'\n",
    "def load_test_data():\n",
    "    test_data = []\n",
    "    for img in os.listdir(TEST_DIR):\n",
    "        label = label_img(img)\n",
    "        path = os.path.join(TEST_DIR, img)\n",
    "        if \"DS_Store\" not in path:\n",
    "            img = Image.open(path)\n",
    "            img = img.convert('L')\n",
    "            img = img.resize((IMG_SIZE, IMG_SIZE), Image.ANTIALIAS)\n",
    "            test_data.append([np.array(img), label])\n",
    "    shuffle(test_data)\n",
    "    return test_data\n",
    "\n",
    "\n",
    "test_data = load_test_data()    \n",
    "plt.imshow(test_data[10][0], cmap = 'gist_gray')"
   ]
  },
  {
   "cell_type": "code",
   "execution_count": 11,
   "metadata": {},
   "outputs": [],
   "source": [
    "testImages = np.array([i[0] for i in test_data]).reshape(-1, IMG_SIZE, IMG_SIZE, 1)\n",
    "testLabels = np.array([i[1] for i in test_data])\n"
   ]
  },
  {
   "cell_type": "code",
   "execution_count": 9,
   "metadata": {},
   "outputs": [],
   "source": [
    "def get_label_from_result(result):\n",
    "    label=''\n",
    "    if(np.argmax(result) ==0):\n",
    "        label='forward'\n",
    "    elif(np.argmax(result)==1):\n",
    "        label='reverse'\n",
    "    elif(np.argmax(result)==2):\n",
    "        label='left'\n",
    "    elif(np.argmax(result)==3):\n",
    "        label='right'\n",
    "    elif(np.argmax(result)==4):\n",
    "        label='idle'\n",
    "    return label"
   ]
  },
  {
   "cell_type": "code",
   "execution_count": 12,
   "metadata": {},
   "outputs": [
    {
     "name": "stdout",
     "output_type": "stream",
     "text": [
      "Loaded model from disk\n",
      "95.00000293438251\n"
     ]
    }
   ],
   "source": [
    "# load json and create model\n",
    "json_file = open('model.json', 'r')\n",
    "loaded_model_json = json_file.read()\n",
    "json_file.close()\n",
    "loaded_model = model_from_json(loaded_model_json)\n",
    "# load weights into new model\n",
    "loaded_model.load_weights(\"model.h5\")\n",
    "print(\"Loaded model from disk\")\n",
    " \n",
    "# evaluate loaded model on test data\n",
    "loaded_model.compile(loss='binary_crossentropy', optimizer='adam', metrics = ['accuracy'])\n",
    "#loaded_model.compile(loss='binary_crossentropy', optimizer='rmsprop', metrics=['accuracy'])\n",
    "loss, acc = loaded_model.evaluate(testImages, testLabels, verbose = 0)\n",
    "print(acc * 100)\n",
    "#score = loaded_model.evaluate(X, Y, verbose=0)\n",
    "#print(\"%s: %.2f%%\" % (loaded_model.metrics_names[1], score[1]*100))"
   ]
  },
  {
   "cell_type": "code",
   "execution_count": 14,
   "metadata": {},
   "outputs": [
    {
     "name": "stdout",
     "output_type": "stream",
     "text": [
      "Predicted: left, Actual: left\n",
      "Predicted: forward, Actual: forward\n",
      "Predicted: right, Actual: left\n",
      "Predicted: idle, Actual: idle\n",
      "Predicted: forward, Actual: forward\n",
      "Predicted: idle, Actual: idle\n",
      "Predicted: forward, Actual: left\n",
      "Predicted: idle, Actual: idle\n",
      "Predicted: forward, Actual: forward\n",
      "Predicted: forward, Actual: forward\n",
      "Predicted: forward, Actual: left\n",
      "Predicted: forward, Actual: right\n",
      "Predicted: idle, Actual: idle\n",
      "Predicted: forward, Actual: forward\n",
      "Predicted: forward, Actual: forward\n",
      "Predicted: right, Actual: right\n",
      "Predicted: idle, Actual: idle\n",
      "Predicted: forward, Actual: forward\n",
      "Predicted: right, Actual: right\n",
      "Predicted: idle, Actual: forward\n",
      "Predicted: left, Actual: left\n",
      "Predicted: forward, Actual: forward\n",
      "Predicted: right, Actual: right\n",
      "Predicted: forward, Actual: left\n",
      "Predicted: idle, Actual: idle\n",
      "Predicted: idle, Actual: idle\n",
      "Predicted: left, Actual: left\n",
      "Predicted: right, Actual: left\n",
      "Predicted: forward, Actual: forward\n",
      "Predicted: left, Actual: left\n",
      "Predicted: right, Actual: right\n",
      "Predicted: right, Actual: right\n",
      "Predicted: left, Actual: left\n",
      "Predicted: idle, Actual: idle\n",
      "Predicted: right, Actual: right\n",
      "Predicted: forward, Actual: forward\n",
      "Predicted: idle, Actual: idle\n",
      "Predicted: idle, Actual: idle\n",
      "Predicted: idle, Actual: idle\n",
      "Predicted: right, Actual: right\n",
      "Predicted: forward, Actual: forward\n",
      "Predicted: idle, Actual: idle\n",
      "Predicted: left, Actual: left\n",
      "Predicted: right, Actual: right\n",
      "Predicted: idle, Actual: idle\n",
      "Predicted: left, Actual: left\n",
      "Predicted: right, Actual: right\n",
      "Predicted: idle, Actual: idle\n",
      "Predicted: left, Actual: left\n",
      "Predicted: right, Actual: right\n",
      "Predicted: forward, Actual: forward\n",
      "Predicted: forward, Actual: forward\n"
     ]
    }
   ],
   "source": [
    "i = 0\n",
    "for img in testImages:\n",
    "    #print(img.shape)\n",
    "    result = loaded_model.predict(img.reshape(-1,75,75,1))\n",
    "    #print(result)\n",
    "    #print(np.argmax(result))\n",
    "    print('Predicted: ' + get_label_from_result(result) + ', Actual: ' + get_label_from_result(testLabels[i]))\n",
    "    i = i +1"
   ]
  },
  {
   "cell_type": "code",
   "execution_count": null,
   "metadata": {},
   "outputs": [],
   "source": []
  }
 ],
 "metadata": {
  "kernelspec": {
   "display_name": "Python 3",
   "language": "python",
   "name": "python3"
  },
  "language_info": {
   "codemirror_mode": {
    "name": "ipython",
    "version": 3
   },
   "file_extension": ".py",
   "mimetype": "text/x-python",
   "name": "python",
   "nbconvert_exporter": "python",
   "pygments_lexer": "ipython3",
   "version": "3.6.4"
  }
 },
 "nbformat": 4,
 "nbformat_minor": 2
}
